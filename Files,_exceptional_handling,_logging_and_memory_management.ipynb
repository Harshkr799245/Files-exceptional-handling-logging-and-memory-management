{
  "nbformat": 4,
  "nbformat_minor": 0,
  "metadata": {
    "colab": {
      "provenance": []
    },
    "kernelspec": {
      "name": "python3",
      "display_name": "Python 3"
    },
    "language_info": {
      "name": "python"
    }
  },
  "cells": [
    {
      "cell_type": "markdown",
      "source": [
        "#Files, exceptional handling, logging andmemory management Questions\n"
      ],
      "metadata": {
        "id": "_U3EGPpLdijW"
      }
    },
    {
      "cell_type": "markdown",
      "source": [
        "1. What is the difference between interpreted and compiled languages?\n",
        "  - Difference between interpreted and compiled languages\n",
        "\n",
        "    - Interpreted: Executes line by line (e.g., Python).\n",
        "\n",
        "    - Compiled: Converts the entire code into machine code before running (e.g., C, Java).\n",
        "\n",
        "2. What is exception handling in Python?\n",
        "  - Exception handling in Python is a mechanism used to manage errors that occur during the execution of a program. Exceptions are events that disrupt the normal flow of the program, and if not handled, they can cause the program to terminate abruptly. Exception handling allows the program to continue running or terminate gracefully by catching and responding to these errors.\n",
        "\n",
        "3. What is the purpose of the finally block in exception handling?\n",
        "  - The purpose of the `finally` block to ensure that certain code runs whether an exception is raised or not.\n",
        "\n",
        "4. What is logging in Python?\n",
        "  - Logging in Python involves tracking events that occur during the execution of a program. It provides a way to record information about the program's behavior, which can be useful for debugging, monitoring, and understanding how the application works. The logging module is a built-in Python library that offers a flexible framework for emitting log messages.\n",
        "\n",
        "5. What is the significance of the` __del__ `method in Python?\n",
        "  - The __del__ method in Python, also known as a destructor, is called when an object is garbage collected, after all references to it have been deleted. It allows the object to perform cleanup actions, such as releasing external resources.\n",
        "\n",
        "6. What is the difference between import and from ... import in Python?\n",
        "  - The import statement and the from ... import statement in Python serve different purposes in how they bring modules and their contents into your code.\n",
        "    - import module_name: This statement imports the entire module. To access items (functions, classes, variables) from the module, you need to use the module name as a prefix.\n",
        "    - from module_name import item_name: This statement imports specific items directly from the module. You can then use these items without the module name prefix.\n",
        "\n",
        "7.  How can you handle multiple exceptions in Python?\n",
        "  - Multiple exceptions in Python can be handled using several approaches:\n",
        "    - Using a tuple of exceptions: This is the most common and recommended way to handle multiple exceptions in a single except block. It involves specifying the exception types as a tuple within the except clause\n",
        "\n",
        "    ```\n",
        "        try:\n",
        "        # Code that might raise exceptions\n",
        "        result = 10 / 0\n",
        "        # result = int(\"abc\")\n",
        "        except (ZeroDivisionError, ValueError) as e:\n",
        "        print(f\"An error occurred: {e}\")      \n",
        "    ```\n",
        "     -  Using multiple except blocks: This approach involves using separate except blocks for each exception type. It allows for more specific handling of different exceptions.\n",
        "\n",
        "     ```\n",
        "         try:\n",
        "        # Code that might raise exceptions\n",
        "        # result = 10 / 0\n",
        "        result = int(\"abc\")\n",
        "        except ZeroDivisionError as e:\n",
        "        print(f\"ZeroDivisionError: {e}\")\n",
        "        except ValueError as e:\n",
        "        print(f\"ValueError: {e}\")\n",
        "    ```\n",
        "  \n",
        "    - Using a parent exception class: This approach involves catching a parent exception class, such as Exception, which can handle any of its subclasses. It is useful when you want to handle a wide range of exceptions in a generic way.\n",
        "\n",
        "    ```\n",
        "        try:\n",
        "        # Code that might raise exceptions\n",
        "        # result = 10 / 0\n",
        "        result = int(\"abc\")\n",
        "        except Exception as e:\n",
        "        print(f\"An error occurred: {e}\")\n",
        "    ```\n",
        "\n",
        "8. What is the purpose of the with statement when handling files in Python?\n",
        "  -The with statement in Python simplifies file handling by ensuring that files are properly opened and closed, even if errors occur. It operates as a context manager, automatically handling resource allocation and deallocation.\n",
        "\n",
        "9. What is the difference between multithreading and multiprocessing?\n",
        "  - Multithreading and multiprocessing are both techniques to run multiple tasks concurrently, but they differ in how they achieve this. Multithreading creates multiple threads within a single process, allowing for concurrent execution within that process, while multiprocessing creates multiple processes, each with its own resources, enabling parallel execution across multiple processors.\n",
        "\n",
        "10.  What are the advantages of using logging in a program?\n",
        "  -  Logging offers significant advantages in software development, including improved debugging, easier troubleshooting, enhanced system observability, and better communication between developers and administrators. It provides a record of events, helping identify issues, understand system behavior, and optimize performance.\n",
        "\n",
        "11. What is memory management in Python?\n",
        "  - In Python, memory management involves automatically handling memory allocation and deallocation. The Python interpreter's memory manager takes care of allocating memory for objects and freeing it when it's no longer needed, without requiring explicit user intervention like in C or C++. This simplifies programming and reduces the risk of memory leaks .\n",
        "\n",
        "12. What are the basic steps involved in exception handling in Python?\n",
        "  - In Python, exception handling involves using `try`, `except`, `else`, and `finally` blocks to manage errors and ensure a program's continued execution even when exceptions occur. The `try` block contains code that might raise an exception, while the `except` block handles the exception if it occurs. The `else` block executes if no exceptions are raised in the try block, and the `finally` block always executes, regardless of whether an exception occurred or not.  \n",
        "\n",
        "13. Why is memory management important in Python?\n",
        "  - Memory management is important in Python because it directly impacts the efficiency, performance, and stability of programs. Proper memory management prevents memory leaks, reduces processing time, and ensures the smooth operation of applications. Python automates memory management through techniques like reference counting and garbage collection, which simplifies development but still requires understanding for optimal performance.\n",
        "\n",
        "14. What is the role of try and except in exception handling?\n",
        "  - In exception handling, the `try` and `except` blocks work together to manage potential errors or exceptions in a program. The `try` block contains code that might cause an exception, while the `except` block handles that exception if it occurs.        \n",
        "\n",
        "15. How does Python's garbage collection system work?\n",
        "  - Python uses a hybrid garbage collection system combining reference counting and tracing garbage collection to manage memory effectively. Reference counting helps reclaim memory when objects are no longer referenced, while tracing garbage collection handles circular references.\n",
        "\n",
        "16. What is the purpose of the else block in exception handling?\n",
        "  - The else block in exception handling, often used in try...except...else structures, executes only when no exceptions are raised within the try block. It provides a way to execute code that's intended to run when the try block executes successfully, effectively separating normal execution from exception handling.\n",
        "\n",
        "  ```\n",
        "\n",
        "      try:\n",
        "        number = 10 / 2\n",
        "        print(number)\n",
        "      except ZeroDivisionError:\n",
        "        print(\"Cannot divide by zero\")\n",
        "      else:\n",
        "        print(\"Division successful\")                \n",
        " ```    \n",
        "17. What are the common logging levels in Python?\n",
        "    -  In Python's logging module, common log levels indicate the severity of logged messages. These levels are: DEBUG, INFO, WARNING, ERROR, and CRITICAL.\n",
        "    - The `DEBUG `level provides detailed information for debugging, while `INFO` confirms expected program behavior. `WARNING` indicates potential problems, and `ERROR` signals significant issues that may prevent functions from executing. `CRITICAL` represents severe errors that might stop the program from running.\n",
        "\n",
        "18. What is the difference between os.fork() and multiprocessing in Python?\n",
        "  - In Python, os.fork() and the multiprocessing module offer different approaches to creating processes. os.fork() is a low-level system call that directly creates a child process, and is not supported on Windows. The multiprocessing module provides a higher-level, more portable and flexible interface for creating and managing processes, including cross-platform support.\n",
        "\n",
        "19. What is the importance of closing a file in Python?\n",
        "  - Closing a file in Python is important for several reasons:\n",
        "     - Resource Management\n",
        "     - Data Integrity\n",
        "     - File Locking\n",
        "     - Code Maintainability\n",
        "\n",
        "20. What is the difference between file.read() and file.readline() in Python?\n",
        "  - The methods file.read() and file.readline() serve different purposes when reading data from a file in Python:\n",
        "   - file.read():\n",
        "This method reads the entire content of the file as a single string. If a size argument is provided (e.g., file.read(10)), it reads up to that number of bytes. If the size argument is omitted, it reads the entire file.\n",
        "   - file.readline():\n",
        "This method reads a single line from the file, including the newline character at the end. Each subsequent call to readline() will return the next line in the file, and it returns an empty string when the end of the file is reached  .\n",
        "\n",
        "21. What is the logging module in Python used for?\n",
        "  - Python logging is a module that allows you to track events that occur while your program is running. You can use logging to record information about errors, warnings, and other events that occur during program execution. And logging is a useful tool for debugging, troubleshooting, and monitoring your program.\n",
        "\n",
        "22. What is the os module in Python used for in file handling?\n",
        "  - The os module in Python is used for file handling by providing a bridge between Python programs and the underlying operating system. It allows for interacting with files and directories, including tasks like creating, deleting, and listing them, and managing their paths.\n",
        "\n",
        "23. What are the challenges associated with memory management in Python?\n",
        "  - Challenges associated with memory management in Python include:\n",
        "    - Garbage Collection Overhead\n",
        "    - Memory Leaks\n",
        "    - High Memory Consumption\n",
        "    - Fragmentation\n",
        "    - Memory Errors\n",
        "    - Concurrency Issues\n",
        "    - Limited Control\n",
        "\n",
        "24. How do you raise an exception manually in Python?\n",
        "  -   To raise an exception manually in Python, use the raise keyword followed by the exception class and a descriptive message. For example, raise ValueError(\"Invalid input\"). This triggers an exception, interrupting normal program flow and potentially allowing an except block to handle it.\n",
        "\n",
        "```\n",
        "def check_positive_number(num):\n",
        "    if num < 0:\n",
        "        raise ValueError(\"Input must be non-negative\") # Raises a ValueError with a message\n",
        "    return num\n",
        "\n",
        "try:\n",
        "    result = check_positive_number(-5)\n",
        "    print(result)\n",
        "except ValueError as e:\n",
        "    print(f\"Error: {e}\")  \n",
        "```\n",
        "\n",
        "25. Why is it important to use multithreading in certain applications?\n",
        "   - Multithreading is important in applications that benefit from concurrent execution of tasks, improved responsiveness, and efficient resource utilization. By breaking down a program into smaller, independent threads, applications can perform multiple operations simultaneously, leading to faster execution, smoother user interfaces, and better utilization of CPU cores.\n",
        "   "
      ],
      "metadata": {
        "id": "LRkiUMKQd2Qi"
      }
    },
    {
      "cell_type": "markdown",
      "source": [
        "#Practical Questions"
      ],
      "metadata": {
        "id": "j8l8UHtnpoHX"
      }
    },
    {
      "cell_type": "markdown",
      "source": [
        "1.  How can you open a file for writing in Python and write a string to it?\n",
        "\n"
      ],
      "metadata": {
        "id": "zbxmUSHfpswi"
      }
    },
    {
      "cell_type": "code",
      "source": [
        "with open(\"output.txt\", \"w\") as file:\n",
        "    file.write(\"Hello, PW Skills!\")\n",
        "    file.write(\"\\nThis is a new line.\")\n"
      ],
      "metadata": {
        "id": "d8cyjLHm5tg5"
      },
      "execution_count": null,
      "outputs": []
    },
    {
      "cell_type": "markdown",
      "source": [
        "2. Write a Python program to read the contents of a file and print each line."
      ],
      "metadata": {
        "id": "VqJOBk-S5ylO"
      }
    },
    {
      "cell_type": "code",
      "source": [
        "with open(\"output.txt\", \"r\") as file:\n",
        "    for line in file:\n",
        "        print(line.strip())\n"
      ],
      "metadata": {
        "colab": {
          "base_uri": "https://localhost:8080/"
        },
        "id": "FSgTcIuN5265",
        "outputId": "5c94e999-0009-499a-8638-c4c2836a84c8"
      },
      "execution_count": null,
      "outputs": [
        {
          "output_type": "stream",
          "name": "stdout",
          "text": [
            "Hello, PW Skills!\n",
            "This is a new line.\n"
          ]
        }
      ]
    },
    {
      "cell_type": "markdown",
      "source": [
        "3. How would you handle a case where the file doesn't exist while trying to open it for reading?\n"
      ],
      "metadata": {
        "id": "6zPJ9CkC6FAj"
      }
    },
    {
      "cell_type": "code",
      "source": [
        "try:\n",
        "    with open(\"nonexistent.txt\", \"r\") as file:\n",
        "        content = file.read()\n",
        "except FileNotFoundError:\n",
        "    print(\"File not found.\")\n"
      ],
      "metadata": {
        "colab": {
          "base_uri": "https://localhost:8080/"
        },
        "id": "5-4nXSCJ6IsE",
        "outputId": "683f43c2-34df-46dc-93a3-9b9c4094e96d"
      },
      "execution_count": null,
      "outputs": [
        {
          "output_type": "stream",
          "name": "stdout",
          "text": [
            "File not found.\n"
          ]
        }
      ]
    },
    {
      "cell_type": "markdown",
      "source": [
        "4. Write a Python script that reads from one file and writes its content to another file.\n"
      ],
      "metadata": {
        "id": "lslIL2qL6QXF"
      }
    },
    {
      "cell_type": "code",
      "source": [
        "with open(\"source.txt\", \"w\") as src:\n",
        "    src.write(\"Copy this content.\")\n",
        "\n",
        "with open(\"source.txt\", \"r\") as src, open(\"destination.txt\", \"w\") as dest:\n",
        "    dest.write(src.read())\n"
      ],
      "metadata": {
        "id": "qxntetZw6VNW"
      },
      "execution_count": null,
      "outputs": []
    },
    {
      "cell_type": "markdown",
      "source": [
        "5. How would you catch and handle division by zero error in Python?\n",
        "\n"
      ],
      "metadata": {
        "id": "JE7OFS1o8FfM"
      }
    },
    {
      "cell_type": "code",
      "source": [
        "try:\n",
        "    result = 10 / 0\n",
        "except ZeroDivisionError:\n",
        "    print(\"Cannot divide by zero.\")\n"
      ],
      "metadata": {
        "colab": {
          "base_uri": "https://localhost:8080/"
        },
        "id": "Gw7Ua8nH8RFk",
        "outputId": "fb13c460-5e11-4802-9325-22fb81612986"
      },
      "execution_count": null,
      "outputs": [
        {
          "output_type": "stream",
          "name": "stdout",
          "text": [
            "Cannot divide by zero.\n"
          ]
        }
      ]
    },
    {
      "cell_type": "markdown",
      "source": [
        "6. Write a Python program that logs an error message to a log file when a division by zero exception occurs.\n"
      ],
      "metadata": {
        "id": "0rUNI21k8VqD"
      }
    },
    {
      "cell_type": "code",
      "source": [
        "import logging\n",
        "logging.basicConfig(filename='app.log', level=logging.ERROR)\n",
        "\n",
        "try:\n",
        "    x = 10 / 0\n",
        "except ZeroDivisionError as e:\n",
        "    logging.error(f\"Error occurred: {e}\")\n"
      ],
      "metadata": {
        "colab": {
          "base_uri": "https://localhost:8080/"
        },
        "id": "-YV1FH8T8cp1",
        "outputId": "f9395ffd-b770-495c-f27f-633abacb8d4c"
      },
      "execution_count": null,
      "outputs": [
        {
          "output_type": "stream",
          "name": "stderr",
          "text": [
            "ERROR:root:Error occurred: division by zero\n"
          ]
        }
      ]
    },
    {
      "cell_type": "markdown",
      "source": [
        "7. How do you log information at different levels (INFO, ERROR, WARNING) in Python using the logging module?\n"
      ],
      "metadata": {
        "id": "j-XAuC_B8lfq"
      }
    },
    {
      "cell_type": "code",
      "source": [
        "import logging\n",
        "logging.basicConfig(filename = \"test_new1.log\", level = logging.DEBUG, format = '%(asctime)s %(levelname)s %(message)s')\n",
        "\n",
        "logging.info(\"This is my info msg\")\n",
        "logging.error(\"This is my error msg\")\n",
        "logging.warning(\"This is my warning msg\")\n",
        "logging.shutdown()"
      ],
      "metadata": {
        "colab": {
          "base_uri": "https://localhost:8080/"
        },
        "id": "NciASksB8veX",
        "outputId": "eb3439a7-fc8f-4544-e92f-fc3561c50a8c"
      },
      "execution_count": null,
      "outputs": [
        {
          "output_type": "stream",
          "name": "stderr",
          "text": [
            "ERROR:root:This is my error msg\n",
            "WARNING:root:This is my warning msg\n"
          ]
        }
      ]
    },
    {
      "cell_type": "markdown",
      "source": [
        "8. Write a program to handle a file opening error using exception handling\n"
      ],
      "metadata": {
        "id": "h6szgmt2CUpF"
      }
    },
    {
      "cell_type": "code",
      "source": [
        "try:\n",
        "    with open(\"nofile.txt\", \"r\") as file:\n",
        "        content = file.read()\n",
        "except FileNotFoundError as e:\n",
        "    print(f\"Error: {e}\")\n"
      ],
      "metadata": {
        "colab": {
          "base_uri": "https://localhost:8080/"
        },
        "id": "2RkzzE40CdMG",
        "outputId": "9b7c21ff-8c7a-4ade-b162-3ed2eddc8256"
      },
      "execution_count": null,
      "outputs": [
        {
          "output_type": "stream",
          "name": "stdout",
          "text": [
            "Error: [Errno 2] No such file or directory: 'nofile.txt'\n"
          ]
        }
      ]
    },
    {
      "cell_type": "markdown",
      "source": [
        "9. How can you read a file line by line and store its content in a list in Python\n"
      ],
      "metadata": {
        "id": "CmYvs3ziCjpt"
      }
    },
    {
      "cell_type": "code",
      "source": [
        "with open(\"output.txt\", \"r\") as file:\n",
        "    lines = file.readlines()\n",
        "print(lines)\n"
      ],
      "metadata": {
        "colab": {
          "base_uri": "https://localhost:8080/"
        },
        "id": "42JdlwHTCoxt",
        "outputId": "881fa171-adfd-4573-f975-d80bb116911f"
      },
      "execution_count": null,
      "outputs": [
        {
          "output_type": "stream",
          "name": "stdout",
          "text": [
            "['Hello, PW Skills!\\n', 'This is a new line.']\n"
          ]
        }
      ]
    },
    {
      "cell_type": "markdown",
      "source": [
        "10. How can you append data to an existing file in Python\n"
      ],
      "metadata": {
        "id": "yNORHb6_DgUp"
      }
    },
    {
      "cell_type": "code",
      "source": [
        "with open(\"output.txt\", \"a\") as file:\n",
        "    file.write(\"\\nAppended line.\")\n"
      ],
      "metadata": {
        "id": "NJ0OndwDDmHV"
      },
      "execution_count": null,
      "outputs": []
    },
    {
      "cell_type": "markdown",
      "source": [
        "11. Write a Python program that uses a try-except block to handle an error when attempting to access a\n",
        "dictionary key that doesn't exist."
      ],
      "metadata": {
        "id": "o0jLNF0vDtyR"
      }
    },
    {
      "cell_type": "code",
      "source": [
        "try:\n",
        "    my_dict = {\"name\": \"Alice\"}\n",
        "    print(my_dict[\"age\"])\n",
        "except KeyError:\n",
        "    print(\"Key not found.\")\n"
      ],
      "metadata": {
        "colab": {
          "base_uri": "https://localhost:8080/"
        },
        "id": "30t_imhgD0J6",
        "outputId": "994cd670-4ad9-4da0-8193-5de181b317f3"
      },
      "execution_count": null,
      "outputs": [
        {
          "output_type": "stream",
          "name": "stdout",
          "text": [
            "Key not found.\n"
          ]
        }
      ]
    },
    {
      "cell_type": "markdown",
      "source": [
        "12. Write a program that demonstrates using multiple except blocks to handle different types of exceptions."
      ],
      "metadata": {
        "id": "JKyzjOWUD7v_"
      }
    },
    {
      "cell_type": "code",
      "source": [
        "try:\n",
        "    data = [1, 2]\n",
        "    print(data[5])\n",
        "    val = 10 / 0\n",
        "except IndexError:\n",
        "    print(\"Index out of range.\")\n",
        "except ZeroDivisionError:\n",
        "    print(\"Division by zero.\")\n"
      ],
      "metadata": {
        "colab": {
          "base_uri": "https://localhost:8080/"
        },
        "id": "N6mIpkTLEAyr",
        "outputId": "62d8d9d5-6cb1-45e5-b929-bbdfd3cd78c2"
      },
      "execution_count": null,
      "outputs": [
        {
          "output_type": "stream",
          "name": "stdout",
          "text": [
            "Index out of range.\n"
          ]
        }
      ]
    },
    {
      "cell_type": "markdown",
      "source": [
        "13. How would you check if a file exists before attempting to read it in Python."
      ],
      "metadata": {
        "id": "Su3_pbimEI5n"
      }
    },
    {
      "cell_type": "code",
      "source": [
        "import os\n",
        "if os.path.exists(\"output.txt\"):\n",
        "    with open(\"output.txt\", \"r\") as file:\n",
        "        print(file.read())\n",
        "else:\n",
        "    print(\"File does not exist.\")\n"
      ],
      "metadata": {
        "colab": {
          "base_uri": "https://localhost:8080/"
        },
        "id": "RIsCZgi1ENnw",
        "outputId": "3772f82e-4dd7-47e8-e38c-8c516f8d960e"
      },
      "execution_count": null,
      "outputs": [
        {
          "output_type": "stream",
          "name": "stdout",
          "text": [
            "Hello, PW Skills!\n",
            "This is a new line.\n",
            "Appended line.\n"
          ]
        }
      ]
    },
    {
      "cell_type": "markdown",
      "source": [
        "14. Write a program that uses the logging module to log both informational and error messages."
      ],
      "metadata": {
        "id": "FVCtIUPKEXet"
      }
    },
    {
      "cell_type": "code",
      "source": [
        "import logging\n",
        "logging.basicConfig(filename=\"log.txt\", level=logging.DEBUG)\n",
        "\n",
        "logging.info(\"Script started.\")\n",
        "try:\n",
        "    x = 1 / 0\n",
        "except ZeroDivisionError:\n",
        "    logging.error(\"Attempted division by zero.\")\n"
      ],
      "metadata": {
        "colab": {
          "base_uri": "https://localhost:8080/"
        },
        "id": "dB267oaGEcQz",
        "outputId": "16471d0b-e251-449a-c643-81b53100238d"
      },
      "execution_count": null,
      "outputs": [
        {
          "output_type": "stream",
          "name": "stderr",
          "text": [
            "ERROR:root:Attempted division by zero.\n"
          ]
        }
      ]
    },
    {
      "cell_type": "markdown",
      "source": [
        "15. Write a Python program that prints the content of a file and handles the case when the file is empty.\n"
      ],
      "metadata": {
        "id": "2xbk9KW8F9uQ"
      }
    },
    {
      "cell_type": "code",
      "source": [
        "with open(\"output.txt\", \"r\") as file:\n",
        "    content = file.read()\n",
        "    if content:\n",
        "        print(content)\n",
        "    else:\n",
        "        print(\"File is empty.\")\n"
      ],
      "metadata": {
        "colab": {
          "base_uri": "https://localhost:8080/"
        },
        "id": "AXVI3_R3GCnd",
        "outputId": "dec550d9-3b6d-4c20-8f60-eed28df9ecd6"
      },
      "execution_count": 23,
      "outputs": [
        {
          "output_type": "stream",
          "name": "stdout",
          "text": [
            "Hello, PW Skills!\n",
            "This is a new line.\n",
            "Appended line.\n"
          ]
        }
      ]
    },
    {
      "cell_type": "markdown",
      "source": [
        "16. Demonstrate how to use memory profiling to check the memory usage of a small program.\n"
      ],
      "metadata": {
        "id": "yJWBE-SBGMzS"
      }
    },
    {
      "cell_type": "code",
      "source": [
        "!pip install memory-profiler\n",
        "\n",
        "from memory_profiler import profile\n",
        "\n",
        "@profile\n",
        "def create_list():\n",
        "    return [i for i in range(10000)]\n",
        "\n",
        "create_list()\n"
      ],
      "metadata": {
        "id": "ZIuMQgkDG6WX"
      },
      "execution_count": null,
      "outputs": []
    },
    {
      "cell_type": "markdown",
      "source": [
        "17. Write a Python program to create and write a list of numbers to a file, one number per line\n"
      ],
      "metadata": {
        "id": "dQ39YdFxG7Sk"
      }
    },
    {
      "cell_type": "code",
      "source": [
        "numbers = [1, 2, 3, 4, 5]\n",
        "with open(\"numbers.txt\", \"w\") as file:\n",
        "    for num in numbers:\n",
        "        file.write(f\"{num}\\n\")\n"
      ],
      "metadata": {
        "id": "QuySj_WzG_8f"
      },
      "execution_count": 26,
      "outputs": []
    },
    {
      "cell_type": "markdown",
      "source": [
        "18. How would you implement a basic logging setup that logs to a file with rotation after 1MB.\n"
      ],
      "metadata": {
        "id": "9G_U6y06HPey"
      }
    },
    {
      "cell_type": "code",
      "source": [
        "import logging\n",
        "from logging.handlers import RotatingFileHandler\n",
        "\n",
        "handler = RotatingFileHandler(\"rotated.log\", maxBytes=1024*1024, backupCount=2)\n",
        "logging.basicConfig(handlers=[handler], level=logging.INFO)\n",
        "logging.info(\"This is a log message.\")\n"
      ],
      "metadata": {
        "id": "lNEiYBkKHXwN"
      },
      "execution_count": 27,
      "outputs": []
    },
    {
      "cell_type": "markdown",
      "source": [
        "19.  Write a program that handles both IndexError and KeyError using a try-except block.\n"
      ],
      "metadata": {
        "id": "SDB8IZmqHetj"
      }
    },
    {
      "cell_type": "code",
      "source": [
        "try:\n",
        "    my_list = [1]\n",
        "    print(my_list[5])\n",
        "    my_dict = {}\n",
        "    print(my_dict[\"key\"])\n",
        "except (IndexError, KeyError) as e:\n",
        "    print(f\"Handled error: {e}\")\n"
      ],
      "metadata": {
        "colab": {
          "base_uri": "https://localhost:8080/"
        },
        "id": "Xh-uxnqBHjfR",
        "outputId": "afe2612f-fdba-4f1a-92f5-8a3a0344510a"
      },
      "execution_count": 28,
      "outputs": [
        {
          "output_type": "stream",
          "name": "stdout",
          "text": [
            "Handled error: list index out of range\n"
          ]
        }
      ]
    },
    {
      "cell_type": "markdown",
      "source": [
        "20. How would you open a file and read its contents using a context manager in Python.\n"
      ],
      "metadata": {
        "id": "GKhbPgz6Hsop"
      }
    },
    {
      "cell_type": "code",
      "source": [
        "with open(\"output.txt\", \"r\") as file:\n",
        "    print(file.read())\n"
      ],
      "metadata": {
        "colab": {
          "base_uri": "https://localhost:8080/"
        },
        "id": "llv-OdxTHv3U",
        "outputId": "39bb8f83-8c04-4176-a301-3e33f13a4a24"
      },
      "execution_count": 29,
      "outputs": [
        {
          "output_type": "stream",
          "name": "stdout",
          "text": [
            "Hello, PW Skills!\n",
            "This is a new line.\n",
            "Appended line.\n"
          ]
        }
      ]
    },
    {
      "cell_type": "markdown",
      "source": [
        "21. Write a Python program that reads a file and prints the number of occurrences of a specific word\n"
      ],
      "metadata": {
        "id": "Iiqg3QGLIQK0"
      }
    },
    {
      "cell_type": "code",
      "source": [
        "with open(\"specific.txt\", \"w\") as file:\n",
        "    file.write(\"Python is amazing. I love learning Python. Python PYTHON!\")\n",
        "\n",
        "word_to_find = \"Python\"\n",
        "with open(\"specific.txt\", \"r\") as file:\n",
        "    content = file.read()\n",
        "    print(content.count(word_to_find))\n",
        "\n",
        ""
      ],
      "metadata": {
        "colab": {
          "base_uri": "https://localhost:8080/"
        },
        "id": "XyGJTqiqIVzM",
        "outputId": "e8e03be0-e1be-4669-f9d9-1b2853691fc1"
      },
      "execution_count": 31,
      "outputs": [
        {
          "output_type": "stream",
          "name": "stdout",
          "text": [
            "3\n"
          ]
        }
      ]
    },
    {
      "cell_type": "markdown",
      "source": [
        "22. How can you check if a file is empty before attempting to read its contents.\n"
      ],
      "metadata": {
        "id": "y2cQlPwCKawF"
      }
    },
    {
      "cell_type": "code",
      "source": [
        "import os\n",
        "\n",
        "if os.path.getsize(\"output.txt\") == 0:\n",
        "    print(\"File is empty.\")\n",
        "else:\n",
        "    with open(\"output.txt\", \"r\") as file:\n",
        "        print(file.read())\n"
      ],
      "metadata": {
        "colab": {
          "base_uri": "https://localhost:8080/"
        },
        "id": "eWqETICwJlwU",
        "outputId": "4f4608f9-5fbe-4ace-b17e-56618327e7b9"
      },
      "execution_count": 32,
      "outputs": [
        {
          "output_type": "stream",
          "name": "stdout",
          "text": [
            "Hello, PW Skills!\n",
            "This is a new line.\n",
            "Appended line.\n"
          ]
        }
      ]
    },
    {
      "cell_type": "markdown",
      "source": [
        "23.  Write a Python program that writes to a log file when an error occurs during file handling.\n"
      ],
      "metadata": {
        "id": "_4OpcSB0K0dx"
      }
    },
    {
      "cell_type": "code",
      "source": [
        "import logging\n",
        "\n",
        "logging.basicConfig(filename=\"file_errors.log\", level=logging.ERROR)\n",
        "\n",
        "try:\n",
        "    with open(\"nonexistent.txt\", \"r\") as file:\n",
        "        content = file.read()\n",
        "except FileNotFoundError as e:\n",
        "    logging.error(f\"File error: {e}\")\n"
      ],
      "metadata": {
        "colab": {
          "base_uri": "https://localhost:8080/"
        },
        "id": "Yzwnld-ZLXrv",
        "outputId": "77c55d5e-4ecb-40fd-ee6b-8a4183f3bf5b"
      },
      "execution_count": 33,
      "outputs": [
        {
          "output_type": "stream",
          "name": "stderr",
          "text": [
            "ERROR:root:File error: [Errno 2] No such file or directory: 'nonexistent.txt'\n"
          ]
        }
      ]
    }
  ]
}